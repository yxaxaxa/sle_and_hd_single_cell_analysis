{
 "cells": [
  {
   "cell_type": "markdown",
   "id": "e96a6580",
   "metadata": {},
   "source": [
    "# Geneset1 reading"
   ]
  },
  {
   "cell_type": "code",
   "execution_count": 2,
   "id": "548ca7e9",
   "metadata": {},
   "outputs": [],
   "source": [
    "library(dplyr)\n",
    "library(stringr)\n",
    "library(readxl)"
   ]
  },
  {
   "cell_type": "code",
   "execution_count": 3,
   "id": "701f164e",
   "metadata": {},
   "outputs": [],
   "source": [
    "markerb<-read.csv('../script4paper/differential_marker_b.csv')\n",
    "marker_mono<-read.csv('../script4paper/differential_marker_mono.csv')\n",
    "genea<-markerb%>%  group_by(cluster) %>%\n",
    "    slice_max(n = 5, order_by = avg_log2FC)\n",
    "geneb<-marker_mono%>%  group_by(cluster) %>%\n",
    "    slice_max(n = 5, order_by = avg_log2FC)"
   ]
  },
  {
   "cell_type": "markdown",
   "id": "e515bfc1",
   "metadata": {},
   "source": [
    "# Geneset2 reading"
   ]
  },
  {
   "cell_type": "code",
   "execution_count": 4,
   "id": "c0e2c46b",
   "metadata": {},
   "outputs": [
    {
     "name": "stderr",
     "output_type": "stream",
     "text": [
      "New names:\n",
      "* `` -> ...1\n",
      "\n"
     ]
    }
   ],
   "source": [
    "geneset2<-read_excel('./CELLCHAT_GENE_hd_specific.xlsx')"
   ]
  },
  {
   "cell_type": "code",
   "execution_count": 5,
   "id": "2ce50ae5",
   "metadata": {},
   "outputs": [],
   "source": [
    "gene_int<-unique(c(genea$gene,geneb$gene))"
   ]
  },
  {
   "cell_type": "code",
   "execution_count": 6,
   "id": "58319946",
   "metadata": {},
   "outputs": [],
   "source": [
    "genec<-geneset2[geneset2$count>=3,]$`...1`"
   ]
  },
  {
   "cell_type": "code",
   "execution_count": 7,
   "id": "a8d3619d",
   "metadata": {},
   "outputs": [
    {
     "data": {
      "text/html": [
       "88"
      ],
      "text/latex": [
       "88"
      ],
      "text/markdown": [
       "88"
      ],
      "text/plain": [
       "[1] 88"
      ]
     },
     "metadata": {},
     "output_type": "display_data"
    },
    {
     "data": {
      "text/html": [
       "67"
      ],
      "text/latex": [
       "67"
      ],
      "text/markdown": [
       "67"
      ],
      "text/plain": [
       "[1] 67"
      ]
     },
     "metadata": {},
     "output_type": "display_data"
    }
   ],
   "source": [
    "length(c(gene_int,genec))\n",
    "length(unique(gene_int,genec))"
   ]
  },
  {
   "cell_type": "markdown",
   "id": "afceaf72",
   "metadata": {},
   "source": [
    "# merge and write"
   ]
  },
  {
   "cell_type": "code",
   "execution_count": 5,
   "id": "a7f2cb1d",
   "metadata": {},
   "outputs": [],
   "source": [
    "gene<-c(genea$gene,geneb$gene,genec)"
   ]
  },
  {
   "cell_type": "code",
   "execution_count": 9,
   "id": "2bf0ecde",
   "metadata": {},
   "outputs": [],
   "source": [
    "write.csv(unique(genec),'./combined_gene_for_machine_learning_cellchat.csv')"
   ]
  }
 ],
 "metadata": {
  "kernelspec": {
   "display_name": "R",
   "language": "R",
   "name": "ir"
  },
  "language_info": {
   "codemirror_mode": "r",
   "file_extension": ".r",
   "mimetype": "text/x-r-source",
   "name": "R",
   "pygments_lexer": "r",
   "version": "4.1.1"
  }
 },
 "nbformat": 4,
 "nbformat_minor": 5
}
