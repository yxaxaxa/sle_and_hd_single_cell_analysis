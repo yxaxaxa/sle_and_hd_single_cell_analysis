{
 "cells": [
  {
   "cell_type": "code",
   "execution_count": 36,
   "metadata": {
    "scrolled": true
   },
   "outputs": [],
   "source": [
    "library(DESeq2)\n",
    "library(dplyr)\n",
    "library(stringr)"
   ]
  },
  {
   "cell_type": "markdown",
   "metadata": {},
   "source": [
    "# GSE159225 Bulk"
   ]
  },
  {
   "cell_type": "code",
   "execution_count": 114,
   "metadata": {},
   "outputs": [],
   "source": [
    "data<-read.csv('../GSE159225_linearRNA_Readcount_Allsamples.csv.gz',sep=';',check.names=F)[,c(5,8:57)]\n",
    "rownames(data)<-data$name\n",
    "data<-data[-1]"
   ]
  },
  {
   "cell_type": "code",
   "execution_count": 120,
   "metadata": {},
   "outputs": [
    {
     "name": "stderr",
     "output_type": "stream",
     "text": [
      "converting counts to integer mode\n",
      "\n",
      "estimating size factors\n",
      "\n",
      "estimating dispersions\n",
      "\n",
      "gene-wise dispersion estimates\n",
      "\n",
      "mean-dispersion relationship\n",
      "\n",
      "final dispersion estimates\n",
      "\n",
      "fitting model and testing\n",
      "\n",
      "-- replacing outliers and refitting for 319 genes\n",
      "-- DESeq argument 'minReplicatesForReplace' = 7 \n",
      "-- original counts are preserved in counts(dds)\n",
      "\n",
      "estimating dispersions\n",
      "\n",
      "fitting model and testing\n",
      "\n",
      "rlog() may take a long time with 50 or more samples,\n",
      "vst() is a much faster transformation\n",
      "\n"
     ]
    }
   ],
   "source": [
    "countdata <- round(data, digits = 0)\n",
    "condition <- c(rep('RRMS',20),rep('SPMS',10),rep('HC',20))\n",
    "sampleTable <- data.frame(name = colnames(countdata), condition=as.factor(condition))\n",
    "## convert the count matrix to a DESeq2 data format\n",
    "dds <- DESeqDataSetFromMatrix(countdata, colData = sampleTable, design = ~condition)\n",
    "## Filter counts > 10\n",
    "dds <- dds[ rowSums(counts(dds)) > 10, ]\n",
    "dds$condition <- relevel(dds$condition, ref = \"HC\")\n",
    "## using DESeq function to normalize dds assy counts \n",
    "dds2 <- DESeq(dds)\n",
    "rld <- rlog(dds2)"
   ]
  },
  {
   "cell_type": "code",
   "execution_count": 122,
   "metadata": {},
   "outputs": [],
   "source": [
    "write.csv(assay(rld),'GSE159225_DESeq_normalized_data.csv')"
   ]
  },
  {
   "cell_type": "markdown",
   "metadata": {},
   "source": [
    "# GSE90081"
   ]
  },
  {
   "cell_type": "code",
   "execution_count": 126,
   "metadata": {},
   "outputs": [],
   "source": [
    "data<-read.csv('../GSE90081_5nRA_12HC_7tRA_fpkm_table.txt.gz',sep='\\t',check.names=F)"
   ]
  },
  {
   "cell_type": "code",
   "execution_count": 149,
   "metadata": {},
   "outputs": [],
   "source": [
    "undup<-data[!duplicated(data$Gene_ID),]\n",
    "dup<-data[duplicated(data$Gene_ID),]\n",
    "rownames(undup)<-undup$Gene_ID\n",
    "undup<-undup[c(3:26)]\n",
    "dup<-aggregate(dup[,c(3:26)],by=list(dup$Gene_ID),FUN = sum)\n",
    "rownames(dup)<-dup$`Group.1`\n",
    "dup<-dup[,c(2:25)]\n",
    "data<-rbind(undup,dup)"
   ]
  },
  {
   "cell_type": "code",
   "execution_count": 165,
   "metadata": {},
   "outputs": [],
   "source": [
    "ra<-data[,grep('*RA',colnames(data))]\n",
    "hc<-data[,grep('^HC',colnames(data))]"
   ]
  },
  {
   "cell_type": "code",
   "execution_count": 167,
   "metadata": {},
   "outputs": [],
   "source": [
    "write.csv(ra,'GSE90081_ra_part.csv')\n",
    "write.csv(hc,'GSE90081_hc_part.csv')"
   ]
  },
  {
   "cell_type": "markdown",
   "metadata": {},
   "source": [
    "# GSE137143 Bulk "
   ]
  },
  {
   "cell_type": "code",
   "execution_count": 45,
   "metadata": {},
   "outputs": [],
   "source": [
    "file<-'./CD14/'\n",
    "file.path<-dir(file)\n",
    "file.path<-lapply(file.path,function(x){\n",
    "    paste('CD14',x,sep='/')\n",
    "})\n",
    "file_1<-lapply(file.path,function(x){\n",
    "    read.table(x,header = T,sep='\\t',row.names=1)[5]\n",
    "})"
   ]
  },
  {
   "cell_type": "code",
   "execution_count": 49,
   "metadata": {},
   "outputs": [
    {
     "data": {
      "text/html": [
       "<table>\n",
       "<caption>A data.frame: 6 × 144</caption>\n",
       "<thead>\n",
       "\t<tr><th></th><th scope=col>13311d</th><th scope=col>22012b</th><th scope=col>43213b</th><th scope=col>46913b</th><th scope=col>47313a</th><th scope=col>47413a</th><th scope=col>47513a</th><th scope=col>47713b</th><th scope=col>48413b</th><th scope=col>48813b</th><th scope=col>⋯</th><th scope=col>86517a</th><th scope=col>86617a</th><th scope=col>86717a</th><th scope=col>87017a</th><th scope=col>87117a</th><th scope=col>87317a</th><th scope=col>87417a</th><th scope=col>87617a</th><th scope=col>87717a</th><th scope=col>87817a</th></tr>\n",
       "\t<tr><th></th><th scope=col>&lt;dbl&gt;</th><th scope=col>&lt;dbl&gt;</th><th scope=col>&lt;dbl&gt;</th><th scope=col>&lt;dbl&gt;</th><th scope=col>&lt;dbl&gt;</th><th scope=col>&lt;dbl&gt;</th><th scope=col>&lt;dbl&gt;</th><th scope=col>&lt;dbl&gt;</th><th scope=col>&lt;dbl&gt;</th><th scope=col>&lt;dbl&gt;</th><th scope=col>⋯</th><th scope=col>&lt;dbl&gt;</th><th scope=col>&lt;dbl&gt;</th><th scope=col>&lt;dbl&gt;</th><th scope=col>&lt;dbl&gt;</th><th scope=col>&lt;dbl&gt;</th><th scope=col>&lt;dbl&gt;</th><th scope=col>&lt;dbl&gt;</th><th scope=col>&lt;dbl&gt;</th><th scope=col>&lt;dbl&gt;</th><th scope=col>&lt;dbl&gt;</th></tr>\n",
       "</thead>\n",
       "<tbody>\n",
       "\t<tr><th scope=row>ENSG00000000003.14_TSPAN6</th><td>  0.00</td><td>  0.00</td><td>  0.04</td><td>  0.01</td><td>  0.00</td><td>  0.00</td><td>  0.00</td><td>  0.00</td><td>  0.00</td><td>  0.00</td><td>⋯</td><td>  0.01</td><td>  0.00</td><td>  0.00</td><td>  0.00</td><td>  0.00</td><td> 1.06</td><td>  0.00</td><td>  0.00</td><td>  0.00</td><td>  0.00</td></tr>\n",
       "\t<tr><th scope=row>ENSG00000000005.5_TNMD</th><td>  0.00</td><td>  0.00</td><td>  0.00</td><td>  0.00</td><td>  0.00</td><td>  0.00</td><td>  0.00</td><td>  0.00</td><td>  0.00</td><td>  0.00</td><td>⋯</td><td>  0.00</td><td>  0.00</td><td>  0.00</td><td>  0.00</td><td>  0.00</td><td> 0.00</td><td>  0.00</td><td>  0.00</td><td>  0.00</td><td>  0.00</td></tr>\n",
       "\t<tr><th scope=row>ENSG00000000419.12_DPM1</th><td> 15.75</td><td> 13.70</td><td> 14.64</td><td> 11.79</td><td> 12.09</td><td> 10.36</td><td> 10.78</td><td> 13.12</td><td> 14.00</td><td> 10.76</td><td>⋯</td><td> 11.92</td><td> 12.83</td><td> 14.11</td><td>  9.47</td><td> 11.38</td><td>12.99</td><td> 12.29</td><td> 10.00</td><td>  9.42</td><td> 10.89</td></tr>\n",
       "\t<tr><th scope=row>ENSG00000000457.13_SCYL3</th><td>  4.17</td><td>  5.66</td><td>  5.42</td><td>  3.85</td><td>  5.12</td><td>  3.89</td><td>  4.27</td><td>  3.45</td><td>  3.72</td><td>  4.78</td><td>⋯</td><td>  3.70</td><td>  4.83</td><td>  3.90</td><td>  2.54</td><td>  4.73</td><td> 7.67</td><td>  4.13</td><td>  3.47</td><td>  2.79</td><td>  3.76</td></tr>\n",
       "\t<tr><th scope=row>ENSG00000000460.16_C1orf112</th><td>  2.14</td><td>  3.75</td><td>  2.43</td><td>  2.07</td><td>  3.11</td><td>  2.52</td><td>  2.21</td><td>  2.18</td><td>  2.40</td><td>  2.50</td><td>⋯</td><td>  2.52</td><td>  2.48</td><td>  2.63</td><td>  2.04</td><td>  3.15</td><td> 2.23</td><td>  1.89</td><td>  2.12</td><td>  1.41</td><td>  2.05</td></tr>\n",
       "\t<tr><th scope=row>ENSG00000000938.12_FGR</th><td>395.30</td><td>610.69</td><td>551.72</td><td>467.77</td><td>664.55</td><td>425.33</td><td>504.57</td><td>411.95</td><td>434.85</td><td>451.72</td><td>⋯</td><td>420.69</td><td>498.15</td><td>443.27</td><td>380.87</td><td>503.64</td><td>31.09</td><td>481.93</td><td>404.96</td><td>358.68</td><td>388.22</td></tr>\n",
       "</tbody>\n",
       "</table>\n"
      ],
      "text/latex": [
       "A data.frame: 6 × 144\n",
       "\\begin{tabular}{r|lllllllllllllllllllll}\n",
       "  & 13311d & 22012b & 43213b & 46913b & 47313a & 47413a & 47513a & 47713b & 48413b & 48813b & ⋯ & 86517a & 86617a & 86717a & 87017a & 87117a & 87317a & 87417a & 87617a & 87717a & 87817a\\\\\n",
       "  & <dbl> & <dbl> & <dbl> & <dbl> & <dbl> & <dbl> & <dbl> & <dbl> & <dbl> & <dbl> & ⋯ & <dbl> & <dbl> & <dbl> & <dbl> & <dbl> & <dbl> & <dbl> & <dbl> & <dbl> & <dbl>\\\\\n",
       "\\hline\n",
       "\tENSG00000000003.14\\_TSPAN6 &   0.00 &   0.00 &   0.04 &   0.01 &   0.00 &   0.00 &   0.00 &   0.00 &   0.00 &   0.00 & ⋯ &   0.01 &   0.00 &   0.00 &   0.00 &   0.00 &  1.06 &   0.00 &   0.00 &   0.00 &   0.00\\\\\n",
       "\tENSG00000000005.5\\_TNMD &   0.00 &   0.00 &   0.00 &   0.00 &   0.00 &   0.00 &   0.00 &   0.00 &   0.00 &   0.00 & ⋯ &   0.00 &   0.00 &   0.00 &   0.00 &   0.00 &  0.00 &   0.00 &   0.00 &   0.00 &   0.00\\\\\n",
       "\tENSG00000000419.12\\_DPM1 &  15.75 &  13.70 &  14.64 &  11.79 &  12.09 &  10.36 &  10.78 &  13.12 &  14.00 &  10.76 & ⋯ &  11.92 &  12.83 &  14.11 &   9.47 &  11.38 & 12.99 &  12.29 &  10.00 &   9.42 &  10.89\\\\\n",
       "\tENSG00000000457.13\\_SCYL3 &   4.17 &   5.66 &   5.42 &   3.85 &   5.12 &   3.89 &   4.27 &   3.45 &   3.72 &   4.78 & ⋯ &   3.70 &   4.83 &   3.90 &   2.54 &   4.73 &  7.67 &   4.13 &   3.47 &   2.79 &   3.76\\\\\n",
       "\tENSG00000000460.16\\_C1orf112 &   2.14 &   3.75 &   2.43 &   2.07 &   3.11 &   2.52 &   2.21 &   2.18 &   2.40 &   2.50 & ⋯ &   2.52 &   2.48 &   2.63 &   2.04 &   3.15 &  2.23 &   1.89 &   2.12 &   1.41 &   2.05\\\\\n",
       "\tENSG00000000938.12\\_FGR & 395.30 & 610.69 & 551.72 & 467.77 & 664.55 & 425.33 & 504.57 & 411.95 & 434.85 & 451.72 & ⋯ & 420.69 & 498.15 & 443.27 & 380.87 & 503.64 & 31.09 & 481.93 & 404.96 & 358.68 & 388.22\\\\\n",
       "\\end{tabular}\n"
      ],
      "text/markdown": [
       "\n",
       "A data.frame: 6 × 144\n",
       "\n",
       "| <!--/--> | 13311d &lt;dbl&gt; | 22012b &lt;dbl&gt; | 43213b &lt;dbl&gt; | 46913b &lt;dbl&gt; | 47313a &lt;dbl&gt; | 47413a &lt;dbl&gt; | 47513a &lt;dbl&gt; | 47713b &lt;dbl&gt; | 48413b &lt;dbl&gt; | 48813b &lt;dbl&gt; | ⋯ ⋯ | 86517a &lt;dbl&gt; | 86617a &lt;dbl&gt; | 86717a &lt;dbl&gt; | 87017a &lt;dbl&gt; | 87117a &lt;dbl&gt; | 87317a &lt;dbl&gt; | 87417a &lt;dbl&gt; | 87617a &lt;dbl&gt; | 87717a &lt;dbl&gt; | 87817a &lt;dbl&gt; |\n",
       "|---|---|---|---|---|---|---|---|---|---|---|---|---|---|---|---|---|---|---|---|---|---|\n",
       "| ENSG00000000003.14_TSPAN6 |   0.00 |   0.00 |   0.04 |   0.01 |   0.00 |   0.00 |   0.00 |   0.00 |   0.00 |   0.00 | ⋯ |   0.01 |   0.00 |   0.00 |   0.00 |   0.00 |  1.06 |   0.00 |   0.00 |   0.00 |   0.00 |\n",
       "| ENSG00000000005.5_TNMD |   0.00 |   0.00 |   0.00 |   0.00 |   0.00 |   0.00 |   0.00 |   0.00 |   0.00 |   0.00 | ⋯ |   0.00 |   0.00 |   0.00 |   0.00 |   0.00 |  0.00 |   0.00 |   0.00 |   0.00 |   0.00 |\n",
       "| ENSG00000000419.12_DPM1 |  15.75 |  13.70 |  14.64 |  11.79 |  12.09 |  10.36 |  10.78 |  13.12 |  14.00 |  10.76 | ⋯ |  11.92 |  12.83 |  14.11 |   9.47 |  11.38 | 12.99 |  12.29 |  10.00 |   9.42 |  10.89 |\n",
       "| ENSG00000000457.13_SCYL3 |   4.17 |   5.66 |   5.42 |   3.85 |   5.12 |   3.89 |   4.27 |   3.45 |   3.72 |   4.78 | ⋯ |   3.70 |   4.83 |   3.90 |   2.54 |   4.73 |  7.67 |   4.13 |   3.47 |   2.79 |   3.76 |\n",
       "| ENSG00000000460.16_C1orf112 |   2.14 |   3.75 |   2.43 |   2.07 |   3.11 |   2.52 |   2.21 |   2.18 |   2.40 |   2.50 | ⋯ |   2.52 |   2.48 |   2.63 |   2.04 |   3.15 |  2.23 |   1.89 |   2.12 |   1.41 |   2.05 |\n",
       "| ENSG00000000938.12_FGR | 395.30 | 610.69 | 551.72 | 467.77 | 664.55 | 425.33 | 504.57 | 411.95 | 434.85 | 451.72 | ⋯ | 420.69 | 498.15 | 443.27 | 380.87 | 503.64 | 31.09 | 481.93 | 404.96 | 358.68 | 388.22 |\n",
       "\n"
      ],
      "text/plain": [
       "                            13311d 22012b 43213b 46913b 47313a 47413a 47513a\n",
       "ENSG00000000003.14_TSPAN6     0.00   0.00   0.04   0.01   0.00   0.00   0.00\n",
       "ENSG00000000005.5_TNMD        0.00   0.00   0.00   0.00   0.00   0.00   0.00\n",
       "ENSG00000000419.12_DPM1      15.75  13.70  14.64  11.79  12.09  10.36  10.78\n",
       "ENSG00000000457.13_SCYL3      4.17   5.66   5.42   3.85   5.12   3.89   4.27\n",
       "ENSG00000000460.16_C1orf112   2.14   3.75   2.43   2.07   3.11   2.52   2.21\n",
       "ENSG00000000938.12_FGR      395.30 610.69 551.72 467.77 664.55 425.33 504.57\n",
       "                            47713b 48413b 48813b ⋯ 86517a 86617a 86717a 87017a\n",
       "ENSG00000000003.14_TSPAN6     0.00   0.00   0.00 ⋯   0.01   0.00   0.00   0.00\n",
       "ENSG00000000005.5_TNMD        0.00   0.00   0.00 ⋯   0.00   0.00   0.00   0.00\n",
       "ENSG00000000419.12_DPM1      13.12  14.00  10.76 ⋯  11.92  12.83  14.11   9.47\n",
       "ENSG00000000457.13_SCYL3      3.45   3.72   4.78 ⋯   3.70   4.83   3.90   2.54\n",
       "ENSG00000000460.16_C1orf112   2.18   2.40   2.50 ⋯   2.52   2.48   2.63   2.04\n",
       "ENSG00000000938.12_FGR      411.95 434.85 451.72 ⋯ 420.69 498.15 443.27 380.87\n",
       "                            87117a 87317a 87417a 87617a 87717a 87817a\n",
       "ENSG00000000003.14_TSPAN6     0.00  1.06    0.00   0.00   0.00   0.00\n",
       "ENSG00000000005.5_TNMD        0.00  0.00    0.00   0.00   0.00   0.00\n",
       "ENSG00000000419.12_DPM1      11.38 12.99   12.29  10.00   9.42  10.89\n",
       "ENSG00000000457.13_SCYL3      4.73  7.67    4.13   3.47   2.79   3.76\n",
       "ENSG00000000460.16_C1orf112   3.15  2.23    1.89   2.12   1.41   2.05\n",
       "ENSG00000000938.12_FGR      503.64 31.09  481.93 404.96 358.68 388.22"
      ]
     },
     "metadata": {},
     "output_type": "display_data"
    }
   ],
   "source": [
    "data<-as.data.frame(file_1)\n",
    "colnames(data)<-str_sub(dir(file),start=12, end=17)\n",
    "head(data)"
   ]
  },
  {
   "cell_type": "code",
   "execution_count": 51,
   "metadata": {
    "scrolled": true
   },
   "outputs": [
    {
     "data": {
      "text/html": [
       "22"
      ],
      "text/latex": [
       "22"
      ],
      "text/markdown": [
       "22"
      ],
      "text/plain": [
       "[1] 22"
      ]
     },
     "metadata": {},
     "output_type": "display_data"
    }
   ],
   "source": [
    "hd_sample<-c('13311d','22012b','82817a','83117a','83217a','83317a','83417a','84117a','84217a','84617a','84717a','84817a','84917a',\n",
    "            '85117a','85317a','86117a','86217a','86417a','86617a','86717a','87317a','87417a')\n",
    "length(hd_sample)"
   ]
  },
  {
   "cell_type": "code",
   "execution_count": 76,
   "metadata": {},
   "outputs": [],
   "source": [
    "hd<-data[,hd_sample]\n",
    "ms<-data[,!colnames(data)%in%hd_sample]"
   ]
  },
  {
   "cell_type": "code",
   "execution_count": 77,
   "metadata": {},
   "outputs": [],
   "source": [
    "split_b<-str_split(rownames(data),\"_\")\n",
    "\n",
    "b<-sapply(split_b,\"[\",1)\n",
    "\n",
    "c<-sapply(split_b,\"[\",2)\n",
    "rowna<-cbind(b,c)"
   ]
  },
  {
   "cell_type": "code",
   "execution_count": 78,
   "metadata": {},
   "outputs": [
    {
     "data": {
      "text/html": [
       "<style>\n",
       ".list-inline {list-style: none; margin:0; padding: 0}\n",
       ".list-inline>li {display: inline-block}\n",
       ".list-inline>li:not(:last-child)::after {content: \"\\00b7\"; padding: 0 .5ex}\n",
       "</style>\n",
       "<ol class=list-inline><li>'TCL1A'</li><li>'PPAPDC1B'</li><li>'FOS'</li><li>'CXCR4'</li><li>'SNX29P2'</li><li>'AIM2'</li><li>'CRIP1'</li><li>'TNFRSF13B'</li><li>'ITGB1'</li><li>'IGHA1'</li><li>'ABCB4'</li><li>'IGHD'</li><li>'IGHM'</li><li>'PLPP5'</li><li>'IGLC2'</li><li>'CD200'</li><li>'BACE2'</li><li>'IL4R'</li><li>'OSBPL10-AS1'</li><li>'CD27'</li><li>'HSPB1'</li><li>'RGS2'</li><li>'MPP6'</li><li>'FCRL5'</li><li>'CIB1'</li><li>'S100A12'</li><li>'FOSB'</li><li>'S100A8'</li><li>'RPS4Y1'</li><li>'IFI27'</li><li>'IFI44L'</li><li>'MX1'</li><li>'IFI44'</li><li>'ISG15'</li><li>'FCGR3A'</li><li>'CDKN1C'</li><li>'RHOC'</li><li>'HES4'</li><li>'TCF7L2'</li><li>'MTRNR2L12'</li><li>'HLA-DQA2'</li><li>'HIST1H1E'</li><li>'H1F0'</li><li>'PLCG2'</li><li>'C15orf48'</li><li>'IL1B'</li><li>'CCL4'</li><li>'THBS1'</li><li>'CCL4L2'</li><li>'XIST'</li><li>'HBEGF'</li><li>'NR4A2'</li><li>'TMEM176A'</li><li>'TNF'</li><li>'CCL3L1'</li><li>'IL1R2'</li><li>'CD163'</li><li>'FKBP5'</li><li>'RETN'</li><li>'SAP30'</li><li>'C1QA'</li><li>'C1QB'</li><li>'IL7R'</li><li>'LTB'</li><li>'CD3D'</li><li>'TCF7'</li><li>'CD3G'</li><li>'ICAM1'</li><li>'ICAM2'</li><li>'ITGAL'</li><li>'SPN'</li><li>'ITGAX'</li><li>'ITGAM'</li><li>'APP'</li><li>'CD74'</li><li>'CD47'</li><li>'CD36'</li><li>'IL16'</li><li>'TNFRSF1A'</li><li>'TGFB1'</li><li>'TGFBR2'</li><li>'SORT1'</li><li>'BAG6'</li></ol>\n"
      ],
      "text/latex": [
       "\\begin{enumerate*}\n",
       "\\item 'TCL1A'\n",
       "\\item 'PPAPDC1B'\n",
       "\\item 'FOS'\n",
       "\\item 'CXCR4'\n",
       "\\item 'SNX29P2'\n",
       "\\item 'AIM2'\n",
       "\\item 'CRIP1'\n",
       "\\item 'TNFRSF13B'\n",
       "\\item 'ITGB1'\n",
       "\\item 'IGHA1'\n",
       "\\item 'ABCB4'\n",
       "\\item 'IGHD'\n",
       "\\item 'IGHM'\n",
       "\\item 'PLPP5'\n",
       "\\item 'IGLC2'\n",
       "\\item 'CD200'\n",
       "\\item 'BACE2'\n",
       "\\item 'IL4R'\n",
       "\\item 'OSBPL10-AS1'\n",
       "\\item 'CD27'\n",
       "\\item 'HSPB1'\n",
       "\\item 'RGS2'\n",
       "\\item 'MPP6'\n",
       "\\item 'FCRL5'\n",
       "\\item 'CIB1'\n",
       "\\item 'S100A12'\n",
       "\\item 'FOSB'\n",
       "\\item 'S100A8'\n",
       "\\item 'RPS4Y1'\n",
       "\\item 'IFI27'\n",
       "\\item 'IFI44L'\n",
       "\\item 'MX1'\n",
       "\\item 'IFI44'\n",
       "\\item 'ISG15'\n",
       "\\item 'FCGR3A'\n",
       "\\item 'CDKN1C'\n",
       "\\item 'RHOC'\n",
       "\\item 'HES4'\n",
       "\\item 'TCF7L2'\n",
       "\\item 'MTRNR2L12'\n",
       "\\item 'HLA-DQA2'\n",
       "\\item 'HIST1H1E'\n",
       "\\item 'H1F0'\n",
       "\\item 'PLCG2'\n",
       "\\item 'C15orf48'\n",
       "\\item 'IL1B'\n",
       "\\item 'CCL4'\n",
       "\\item 'THBS1'\n",
       "\\item 'CCL4L2'\n",
       "\\item 'XIST'\n",
       "\\item 'HBEGF'\n",
       "\\item 'NR4A2'\n",
       "\\item 'TMEM176A'\n",
       "\\item 'TNF'\n",
       "\\item 'CCL3L1'\n",
       "\\item 'IL1R2'\n",
       "\\item 'CD163'\n",
       "\\item 'FKBP5'\n",
       "\\item 'RETN'\n",
       "\\item 'SAP30'\n",
       "\\item 'C1QA'\n",
       "\\item 'C1QB'\n",
       "\\item 'IL7R'\n",
       "\\item 'LTB'\n",
       "\\item 'CD3D'\n",
       "\\item 'TCF7'\n",
       "\\item 'CD3G'\n",
       "\\item 'ICAM1'\n",
       "\\item 'ICAM2'\n",
       "\\item 'ITGAL'\n",
       "\\item 'SPN'\n",
       "\\item 'ITGAX'\n",
       "\\item 'ITGAM'\n",
       "\\item 'APP'\n",
       "\\item 'CD74'\n",
       "\\item 'CD47'\n",
       "\\item 'CD36'\n",
       "\\item 'IL16'\n",
       "\\item 'TNFRSF1A'\n",
       "\\item 'TGFB1'\n",
       "\\item 'TGFBR2'\n",
       "\\item 'SORT1'\n",
       "\\item 'BAG6'\n",
       "\\end{enumerate*}\n"
      ],
      "text/markdown": [
       "1. 'TCL1A'\n",
       "2. 'PPAPDC1B'\n",
       "3. 'FOS'\n",
       "4. 'CXCR4'\n",
       "5. 'SNX29P2'\n",
       "6. 'AIM2'\n",
       "7. 'CRIP1'\n",
       "8. 'TNFRSF13B'\n",
       "9. 'ITGB1'\n",
       "10. 'IGHA1'\n",
       "11. 'ABCB4'\n",
       "12. 'IGHD'\n",
       "13. 'IGHM'\n",
       "14. 'PLPP5'\n",
       "15. 'IGLC2'\n",
       "16. 'CD200'\n",
       "17. 'BACE2'\n",
       "18. 'IL4R'\n",
       "19. 'OSBPL10-AS1'\n",
       "20. 'CD27'\n",
       "21. 'HSPB1'\n",
       "22. 'RGS2'\n",
       "23. 'MPP6'\n",
       "24. 'FCRL5'\n",
       "25. 'CIB1'\n",
       "26. 'S100A12'\n",
       "27. 'FOSB'\n",
       "28. 'S100A8'\n",
       "29. 'RPS4Y1'\n",
       "30. 'IFI27'\n",
       "31. 'IFI44L'\n",
       "32. 'MX1'\n",
       "33. 'IFI44'\n",
       "34. 'ISG15'\n",
       "35. 'FCGR3A'\n",
       "36. 'CDKN1C'\n",
       "37. 'RHOC'\n",
       "38. 'HES4'\n",
       "39. 'TCF7L2'\n",
       "40. 'MTRNR2L12'\n",
       "41. 'HLA-DQA2'\n",
       "42. 'HIST1H1E'\n",
       "43. 'H1F0'\n",
       "44. 'PLCG2'\n",
       "45. 'C15orf48'\n",
       "46. 'IL1B'\n",
       "47. 'CCL4'\n",
       "48. 'THBS1'\n",
       "49. 'CCL4L2'\n",
       "50. 'XIST'\n",
       "51. 'HBEGF'\n",
       "52. 'NR4A2'\n",
       "53. 'TMEM176A'\n",
       "54. 'TNF'\n",
       "55. 'CCL3L1'\n",
       "56. 'IL1R2'\n",
       "57. 'CD163'\n",
       "58. 'FKBP5'\n",
       "59. 'RETN'\n",
       "60. 'SAP30'\n",
       "61. 'C1QA'\n",
       "62. 'C1QB'\n",
       "63. 'IL7R'\n",
       "64. 'LTB'\n",
       "65. 'CD3D'\n",
       "66. 'TCF7'\n",
       "67. 'CD3G'\n",
       "68. 'ICAM1'\n",
       "69. 'ICAM2'\n",
       "70. 'ITGAL'\n",
       "71. 'SPN'\n",
       "72. 'ITGAX'\n",
       "73. 'ITGAM'\n",
       "74. 'APP'\n",
       "75. 'CD74'\n",
       "76. 'CD47'\n",
       "77. 'CD36'\n",
       "78. 'IL16'\n",
       "79. 'TNFRSF1A'\n",
       "80. 'TGFB1'\n",
       "81. 'TGFBR2'\n",
       "82. 'SORT1'\n",
       "83. 'BAG6'\n",
       "\n",
       "\n"
      ],
      "text/plain": [
       " [1] \"TCL1A\"       \"PPAPDC1B\"    \"FOS\"         \"CXCR4\"       \"SNX29P2\"    \n",
       " [6] \"AIM2\"        \"CRIP1\"       \"TNFRSF13B\"   \"ITGB1\"       \"IGHA1\"      \n",
       "[11] \"ABCB4\"       \"IGHD\"        \"IGHM\"        \"PLPP5\"       \"IGLC2\"      \n",
       "[16] \"CD200\"       \"BACE2\"       \"IL4R\"        \"OSBPL10-AS1\" \"CD27\"       \n",
       "[21] \"HSPB1\"       \"RGS2\"        \"MPP6\"        \"FCRL5\"       \"CIB1\"       \n",
       "[26] \"S100A12\"     \"FOSB\"        \"S100A8\"      \"RPS4Y1\"      \"IFI27\"      \n",
       "[31] \"IFI44L\"      \"MX1\"         \"IFI44\"       \"ISG15\"       \"FCGR3A\"     \n",
       "[36] \"CDKN1C\"      \"RHOC\"        \"HES4\"        \"TCF7L2\"      \"MTRNR2L12\"  \n",
       "[41] \"HLA-DQA2\"    \"HIST1H1E\"    \"H1F0\"        \"PLCG2\"       \"C15orf48\"   \n",
       "[46] \"IL1B\"        \"CCL4\"        \"THBS1\"       \"CCL4L2\"      \"XIST\"       \n",
       "[51] \"HBEGF\"       \"NR4A2\"       \"TMEM176A\"    \"TNF\"         \"CCL3L1\"     \n",
       "[56] \"IL1R2\"       \"CD163\"       \"FKBP5\"       \"RETN\"        \"SAP30\"      \n",
       "[61] \"C1QA\"        \"C1QB\"        \"IL7R\"        \"LTB\"         \"CD3D\"       \n",
       "[66] \"TCF7\"        \"CD3G\"        \"ICAM1\"       \"ICAM2\"       \"ITGAL\"      \n",
       "[71] \"SPN\"         \"ITGAX\"       \"ITGAM\"       \"APP\"         \"CD74\"       \n",
       "[76] \"CD47\"        \"CD36\"        \"IL16\"        \"TNFRSF1A\"    \"TGFB1\"      \n",
       "[81] \"TGFBR2\"      \"SORT1\"       \"BAG6\"       "
      ]
     },
     "metadata": {},
     "output_type": "display_data"
    }
   ],
   "source": [
    "gene<-read.csv('./three_gene_combined_markerset.csv')\n"
   ]
  },
  {
   "cell_type": "code",
   "execution_count": 79,
   "metadata": {},
   "outputs": [],
   "source": [
    "hd$gene<-c\n",
    "ms$gene<-c\n",
    "hd<-hd[hd$gene%in%gene$x,]\n",
    "rownames(hd)<-hd$gene\n",
    "hd<-hd[-23]\n",
    "ms<-ms[ms$gene%in%gene$x,]\n",
    "rownames(ms)<-ms$gene\n",
    "ms<-ms[-123]\n"
   ]
  },
  {
   "cell_type": "code",
   "execution_count": 81,
   "metadata": {},
   "outputs": [],
   "source": [
    "write.csv(hd,'../GSE137143_MONO/GSE137143_hd_86_marker.csv')\n",
    "write.csv(ms,'../GSE137143_MONO/GSE137143_ms_86_marker.csv')"
   ]
  },
  {
   "cell_type": "code",
   "execution_count": null,
   "metadata": {},
   "outputs": [],
   "source": []
  }
 ],
 "metadata": {
  "kernelspec": {
   "display_name": "R",
   "language": "R",
   "name": "ir"
  },
  "language_info": {
   "codemirror_mode": "r",
   "file_extension": ".r",
   "mimetype": "text/x-r-source",
   "name": "R",
   "pygments_lexer": "r",
   "version": "4.0.3"
  },
  "toc": {
   "base_numbering": 1,
   "nav_menu": {},
   "number_sections": true,
   "sideBar": true,
   "skip_h1_title": false,
   "title_cell": "Table of Contents",
   "title_sidebar": "Contents",
   "toc_cell": false,
   "toc_position": {},
   "toc_section_display": true,
   "toc_window_display": false
  }
 },
 "nbformat": 4,
 "nbformat_minor": 2
}
